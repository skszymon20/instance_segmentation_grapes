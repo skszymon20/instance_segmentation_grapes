{
  "cells": [
    {
      "cell_type": "code",
      "execution_count": null,
      "metadata": {
        "colab": {
          "base_uri": "https://localhost:8080/"
        },
        "id": "zZOiV9uakMxc",
        "outputId": "2a0ace8b-dd96-4594-aaee-a36449da4540"
      },
      "outputs": [
        {
          "output_type": "stream",
          "name": "stdout",
          "text": [
            "Cloning into 'wgisd'...\n",
            "remote: Enumerating objects: 4248, done.\u001b[K\n",
            "remote: Counting objects: 100% (848/848), done.\u001b[K\n",
            "remote: Compressing objects: 100% (839/839), done.\u001b[K\n",
            "remote: Total 4248 (delta 19), reused 820 (delta 7), pack-reused 3400\u001b[K\n",
            "Receiving objects: 100% (4248/4248), 1.39 GiB | 30.93 MiB/s, done.\n",
            "Resolving deltas: 100% (342/342), done.\n",
            "Checking out files: 100% (1849/1849), done.\n"
          ]
        }
      ],
      "source": [
        "! git clone https://github.com/thsant/wgisd.git"
      ]
    },
    {
      "cell_type": "code",
      "execution_count": null,
      "metadata": {
        "colab": {
          "base_uri": "https://localhost:8080/"
        },
        "id": "BqZQkm5dueL0",
        "outputId": "b21909ae-9087-490a-be43-8722c78fd1cd"
      },
      "outputs": [
        {
          "output_type": "stream",
          "name": "stdout",
          "text": [
            "Drive already mounted at /googledrive; to attempt to forcibly remount, call drive.mount(\"/googledrive\", force_remount=True).\n"
          ]
        }
      ],
      "source": [
        "HEIGHT, WIDTH = 1365, 2048\n",
        "MASKTHRESH = 0.5\n",
        "from google.colab import drive\n",
        "drive.mount('/googledrive')\n",
        "MODELPATH = '/googledrive/MyDrive/uczelnia/computer_vision/instance_segmentation_grapes/models/'\n",
        "from random import shuffle\n",
        "from torchvision.models.detection.mask_rcnn import MaskRCNNPredictor\n",
        "from torchvision.models.detection.faster_rcnn import FastRCNNPredictor\n",
        "from torchvision.models.detection.ssd import det_utils\n",
        "from torchvision.ops import nms\n",
        "import torchvision\n",
        "import logging\n",
        "import os\n",
        "import numpy as np\n",
        "import torch\n",
        "from torch.utils.data import Dataset, DataLoader\n",
        "from PIL import Image\n",
        "import torch\n",
        "import warnings\n",
        "import random\n",
        "import colorsys\n",
        "import matplotlib.pyplot as plt\n",
        "from matplotlib import patches\n",
        "from matplotlib.patches import Polygon\n",
        "from skimage.color import label2rgb\n",
        "from google.colab.patches import cv2_imshow\n",
        "\n",
        "def random_colors(n_colors, bright=True):\n",
        "    \"\"\"\n",
        "    Generate random colors.\n",
        "    To get visually distinct colors, generate them in HSV space then\n",
        "    convert to RGB.\n",
        "    \"\"\"\n",
        "    brightness = 1.0 if bright else 0.7\n",
        "    hsv = [(i / n_colors, 1, brightness) for i in range(n_colors)]\n",
        "    colors = list(map(lambda c: colorsys.hsv_to_rgb(*c), hsv))\n",
        "    random.shuffle(colors)\n",
        "    return colors\n",
        "\n",
        "\n",
        "def plot_item(img, boxes, mask, savename = None, maskthresh = MASKTHRESH):\n",
        "    \"\"\"\n",
        "    Parameters:\n",
        "        img : src image of shape (3, image_height, image_width) e.g. (3, 1365, 2048)\n",
        "        boxes : boxes found objects (n_boxes, 4)\n",
        "        mask : mask of found objects (n_boxes, image_height, image_width)\n",
        "    Examples:\n",
        "        sample parameters shape: ((3, 1365, 2048), (11, 4), (11, 1365, 2048))\n",
        "    \"\"\"\n",
        "    if type(img) == torch.Tensor:\n",
        "        img = img.detach().numpy()\n",
        "    if type(boxes) == torch.Tensor:\n",
        "        boxes = boxes.detach().numpy()\n",
        "    if type(mask) == torch.Tensor:\n",
        "        mask = mask.detach().numpy()\n",
        "    if mask.shape[1] == 1:\n",
        "        mask = mask.squeeze(1)\n",
        "    if mask.dtype != np.uint8:\n",
        "        mask = mask > maskthresh\n",
        "        mask = mask.astype(np.uint8)\n",
        "    fig, (ax0, ax1) = plt.subplots(figsize=(20,10), ncols=2, dpi = 200)\n",
        "\n",
        "    # boxes = boxes[[12], ...]\n",
        "    # mask = mask[[12], ...]\n",
        "\n",
        "    # Number of instances\n",
        "    n_boxes = boxes.shape[0]\n",
        "\n",
        "    # Generate random colors\n",
        "    colors = random_colors(n_boxes)\n",
        "\n",
        "    for i, (x0, y0, x1, y1) in enumerate(boxes):\n",
        "        color = np.array(colors[i])\n",
        "        box_width = x1 - x0\n",
        "        box_height = y1 - y0\n",
        "        p = patches.Rectangle((x0, y0), box_width, box_height, linewidth=2,\n",
        "                              alpha=0.7, linestyle=\"dashed\",\n",
        "                              edgecolor=color, facecolor='none')\n",
        "        ax0.add_patch(p)\n",
        "        ax0.text(x0 + 5, y0 + 25, '%.2d' % i, color=color, weight='bold', size=8)\n",
        "\n",
        "        p = patches.Rectangle((x0, y0), box_width, box_height, linewidth=2,\n",
        "                              alpha=0.7, linestyle=\"dashed\",\n",
        "                              edgecolor=color, facecolor='none')\n",
        "        ax1.add_patch(p)\n",
        "        ax1.text(x0 + 5, y0 + 25, '%.2d' % i, color=color, weight='bold', size=8)\n",
        "        \n",
        "        ax0.imshow(np.moveaxis(img, 0, -1))\n",
        "\n",
        "    mask = np.moveaxis(mask, 0, -1)\n",
        "    labels = np.zeros(mask.shape[0:2])\n",
        "    for i in range(n_boxes):\n",
        "        labels[mask[:,:,i] == 1] = i + 1\n",
        "    mask_rgb = label2rgb(labels, colors=colors, bg_label=0)\n",
        "    ax1.imshow(mask_rgb)\n",
        "    if savename is not None:\n",
        "        plt.savefig(savename)\n",
        "\n",
        "class WGISDMaskedDataset(Dataset):\n",
        "    def __init__(self, root, transforms=None, source='train'):\n",
        "        self.root = root\n",
        "        self.transforms = transforms\n",
        "        \n",
        "        if source not in ('train', 'test', 'valid'):\n",
        "            print('source should be by \"train\" or \"test\"')\n",
        "            return None\n",
        "\n",
        "        srcpref = source\n",
        "        if source == 'valid':\n",
        "            srcpref = 'test'\n",
        "        source_path = os.path.join(root, f'{srcpref}_masked.txt')\n",
        "        with open(source_path, 'r') as fp:\n",
        "          lines = fp.readlines()\n",
        "          ids = [l.rstrip() for l in lines]# removes /n at the end of each line\n",
        "\n",
        "        self.imgs = [os.path.join(root, 'data', f'{id}.jpg') for id in ids]\n",
        "        self.masks = [os.path.join(root, 'data', f'{id}.npz') for id in ids]\n",
        "        self.boxes = [os.path.join(root, 'data', f'{id}.txt') for id in ids]\n",
        "\n",
        "        #performing additional dataset split test -> test, valid\n",
        "        if source == 'valid':\n",
        "            self.imgs = self.imgs[len(self.imgs) // 2 : ]\n",
        "            self.masks = self.masks[len(self.masks) // 2 : ]\n",
        "            self.boxes = self.boxes[len(self.boxes) // 2 : ]\n",
        "        elif source == 'test':\n",
        "            self.imgs = self.imgs[ : len(self.imgs) // 2 ]\n",
        "            self.masks = self.masks[ : len(self.masks) // 2 ]\n",
        "            self.boxes = self.boxes[ : len(self.boxes) // 2 ]\n",
        "\n",
        "    def __getitem__(self, idx):\n",
        "        img_path = self.imgs[idx]\n",
        "        mask_path = self.masks[idx]\n",
        "        box_path = self.boxes[idx]\n",
        "\n",
        "        img = Image.open(img_path).convert(\"RGB\")\n",
        "        \n",
        "        if self.transforms is None:\n",
        "            pass\n",
        "        else:\n",
        "            img = np.array(img)\n",
        "            img = self.transforms(torch.as_tensor(img, dtype=torch.uint8))\n",
        "\n",
        "        img = np.array(img)\n",
        "        # Normalize\n",
        "        img = (img - img.min()) / np.max([img.max() - img.min(), 1])\n",
        "        img = np.moveaxis(img, -1, 0)\n",
        "        img = torch.as_tensor(img, dtype=torch.float32)  \n",
        "\n",
        "\n",
        "        wgisd_masks = np.load(mask_path)['arr_0'].astype(np.uint8)\n",
        "        masks = np.moveaxis(wgisd_masks, -1, 0) \n",
        "\n",
        "        num_objs = masks.shape[0]\n",
        "        all_text = np.loadtxt(box_path, delimiter = \" \", dtype = np.float32)\n",
        "        wgisd_boxes = all_text[:,1:]\n",
        "        assert(wgisd_boxes.shape[0] == num_objs)\n",
        "\n",
        "        labels = np.ones(num_objs, dtype=np.int64)\n",
        "\n",
        "        # According to WGISD:\n",
        "        #\n",
        "        # These text files follows the \"YOLO format\"\n",
        "        # \n",
        "        # CLASS CX CY W H\n",
        "        # \n",
        "        # class is an integer defining the object class – the dataset presents \n",
        "        # only the grape class that is numbered 0, so every line starts with \n",
        "        # this \"class zero\" indicator. The center of the bounding box is the \n",
        "        # point (c_x, c_y), represented as float values because this format \n",
        "        # normalizes the coordinates by the image dimensions. To get the \n",
        "        # absolute position, use (2048 c_x, 1365 c_y). The bounding box \n",
        "        # dimensions are given by W and H, also normalized by the image size.\n",
        "        #\n",
        "        # Torchvision's Mask R-CNN expects absolute coordinates.\n",
        "        _, height, width = img.shape\n",
        "\n",
        "        boxes = []\n",
        "        for box in wgisd_boxes:\n",
        "            x1 = box[0] - box[2]/2\n",
        "            x2 = box[0] + box[2]/2\n",
        "            y1 = box[1] - box[3]/2\n",
        "            y2 = box[1] + box[3]/2\n",
        "            boxes.append([x1 * width, y1 * height, x2 * width, y2 * height])\n",
        "\n",
        "        boxes = torch.as_tensor(boxes, dtype=torch.float32)\n",
        "        labels = torch.ones((num_objs,), dtype=torch.int64)\n",
        "        masks = torch.as_tensor(masks, dtype=torch.uint8)\n",
        "        image_id = torch.tensor([idx])\n",
        "\n",
        "        target = {\n",
        "            \"boxes\": boxes,\n",
        "            \"labels\": labels,\n",
        "            \"masks\": masks,\n",
        "            \"image_id\": image_id\n",
        "        }\n",
        "\n",
        "        return img, target\n",
        "\n",
        "    def __len__(self):\n",
        "        return len(self.imgs)\n",
        "\n",
        "def get_maskrcnn(pretrained = True):\n",
        "    model = torchvision.models.detection.maskrcnn_resnet50_fpn(pretrained=pretrained)\n",
        "    in_features = model.roi_heads.box_predictor.cls_score.in_features\n",
        "    #replace head predictor (boxes)\n",
        "    NUM_CLASSES=2\n",
        "    model.roi_heads.box_predictor = FastRCNNPredictor(in_features, NUM_CLASSES)\n",
        "    in_features_mask = model.roi_heads.mask_predictor.conv5_mask.in_channels\n",
        "    hidden_layer = 256\n",
        "    #replace mask predictor\n",
        "    fg_iou_thresh = 0.6 #min IoU to be considered as positive\n",
        "    bg_iou_thresh = 0.6 #max IoU to be considered as negative\n",
        "    model.roi_heads.proposal_matcher.low_threshold = bg_iou_thresh\n",
        "    model.roi_heads.proposal_matcher.high_threshold = fg_iou_thresh\n",
        "    model.roi_heads.mask_predictor = MaskRCNNPredictor(in_features_mask, hidden_layer, NUM_CLASSES)\n",
        "    return model\n",
        "\n",
        "def filter_results(results : dict, confidence_thresh = 0.8):\n",
        "    \"\"\"\n",
        "    filters results in situ\n",
        "    \"\"\"\n",
        "    scores = results['scores']\n",
        "    results['boxes'] = results['boxes'][scores > confidence_thresh]\n",
        "    results['labels'] = results['labels'][scores >confidence_thresh]\n",
        "    results['masks'] = results['masks'][scores>confidence_thresh]\n",
        "    results['scores'] = results['scores'][scores > confidence_thresh]\n",
        "    return results\n",
        "\n",
        "def nmscombined(orig_predicted, iou_thresh = 0.3):\n",
        "    '''\n",
        "    performs non max suppression on the results\n",
        "    '''\n",
        "    keep = nms(orig_predicted['boxes'], orig_predicted['scores'], iou_thresh)\n",
        "    final_pred = orig_predicted\n",
        "    final_pred['boxes'] = final_pred['boxes'][keep]\n",
        "    final_pred['masks'] = final_pred['masks'][keep]\n",
        "    final_pred['scores'] = final_pred['scores'][keep]\n",
        "    final_pred['labels'] = final_pred['labels'][keep]\n",
        "    return final_pred\n",
        "\n",
        "def average_precision(GTmasks, predmasks, maskthresh = MASKTHRESH):\n",
        "    \"\"\"\n",
        "    Parameters\n",
        "    ----------\n",
        "    GTmasks : Ground Truth masks\n",
        "    predmasks : Predicted Masks from the model\n",
        "    \n",
        "    Returns\n",
        "    ------------\n",
        "    Precision\n",
        "    \"\"\"\n",
        "    predmasks = predmasks > maskthresh\n",
        "    #for each predmask compute nearest neighbor and return precision\n",
        "    loss = 0\n",
        "    npreds =0\n",
        "    for predmask in predmasks:\n",
        "        andresult=torch.logical_and(GTmasks, predmask )\n",
        "        imgid = torch.argmax(andresult.sum([-1, -2]))\n",
        "        gtmask = GTmasks[imgid]\n",
        "        N_TP = torch.logical_and(gtmask, predmask).sum()\n",
        "        N_FP = predmask.sum() - N_TP\n",
        "        loss += N_TP / (N_TP + N_FP)\n",
        "        npreds +=1\n",
        "    return loss / npreds\n",
        "\n",
        "def average_recall(GTmasks, predmasks, maskthresh = MASKTHRESH):\n",
        "    \"\"\"\n",
        "    Parameters\n",
        "    ----------\n",
        "    GTmasks : Ground Truth masks\n",
        "    predmasks : Predicted Masks from the model\n",
        "    \n",
        "    Returns\n",
        "    ------------\n",
        "    Recall\n",
        "    \"\"\"\n",
        "    predmasks = predmasks > maskthresh\n",
        "    #for each predmask compute nearest neighbor and return recall\n",
        "    loss = 0\n",
        "    npreds =0\n",
        "    for predmask in predmasks:\n",
        "        andresult=torch.logical_and(GTmasks, predmask )\n",
        "        imgid = torch.argmax(andresult.sum([-1, -2]))\n",
        "        gtmask = GTmasks[imgid]\n",
        "        N_TP = torch.logical_and(gtmask, predmask).sum()\n",
        "        N_FN = gtmask.sum() - N_TP\n",
        "        loss += N_TP / (N_TP + N_FN)\n",
        "        npreds +=1\n",
        "    return loss / npreds\n",
        "\n",
        "def fscore_(precision, recall):\n",
        "    return 2 * precision * recall / (precision + recall)\n",
        "\n",
        "def fscore(GTmasks, predmasks, maskthresh = MASKTHRESH):\n",
        "    predmasks = predmasks > maskthresh\n",
        "    #for each predmask compute nearest neighbor and return precision\n",
        "    precloss = 0\n",
        "    recloss = 0\n",
        "    npreds =0\n",
        "    for predmask in predmasks:\n",
        "        andresult=torch.logical_and(GTmasks, predmask )\n",
        "        imgid = torch.argmax(andresult.sum([-1, -2]))\n",
        "        gtmask = GTmasks[imgid]\n",
        "        N_TP = torch.logical_and(gtmask, predmask).sum()\n",
        "        N_FP = predmask.sum() - N_TP\n",
        "        N_FN = gtmask.sum() - N_TP\n",
        "        precloss += N_TP / (N_TP + N_FP)\n",
        "        recloss += N_TP / (N_TP + N_FN)\n",
        "        npreds +=1\n",
        "    precision = precloss / npreds\n",
        "    recall = recloss / npreds\n",
        "\n",
        "    return fscore_(precision, recall)\n",
        "\n",
        "def print_datsetslens():\n",
        "    train=WGISDMaskedDataset('./wgisd/', source='train')\n",
        "    test=WGISDMaskedDataset('./wgisd/', source='test')\n",
        "    valid = WGISDMaskedDataset('./wgisd/', source='valid')\n",
        "    print('trainlen:', len(train))\n",
        "    print('testlen:', len(test))\n",
        "    print('validlen:', len(valid))\n",
        "    den = len(train) + len(valid) + len(test)\n",
        "    print(f'split proportion: {len(train) / den} : {len(test) / den} : {len(valid) / den}')"
      ]
    },
    {
      "cell_type": "code",
      "execution_count": null,
      "metadata": {
        "colab": {
          "base_uri": "https://localhost:8080/"
        },
        "id": "kPYtK8x00lLW",
        "outputId": "9d3708a0-1df2-404f-c9ce-e1dd258824e0"
      },
      "outputs": [
        {
          "output_type": "stream",
          "name": "stdout",
          "text": [
            "finalepoch1: lossmask:0.2906045615673065; loss:0.9145166277885437; lossmaskacc:22.47536252439022; lossacc: 71.47234070301056;\n",
            "finalepoch2: lossmask:0.22981758415699005; loss:0.945505678653717; lossmaskacc:14.322275921702385; lossacc: 48.234725534915924;\n",
            "finalepoch3: lossmask:0.27388039231300354; loss:0.7837556004524231; lossmaskacc:13.270611241459846; lossacc: 42.8925878405571;\n",
            "finalepoch4: lossmask:0.23466838896274567; loss:0.6725770235061646; lossmaskacc:12.639134913682938; lossacc: 38.76751062273979;\n",
            "finalepoch5: lossmask:0.23341745138168335; loss:0.7471639513969421; lossmaskacc:12.080042526125908; lossacc: 34.735831797122955;\n",
            "finalepoch6: lossmask:0.2321588546037674; loss:0.9405063986778259; lossmaskacc:11.809507131576538; lossacc: 32.27685680985451;\n",
            "finalepoch7: lossmask:0.17528963088989258; loss:0.4604153335094452; lossmaskacc:11.474566832184792; lossacc: 30.044736325740814;\n",
            "finalepoch8: lossmask:0.2607760727405548; loss:0.7247419357299805; lossmaskacc:11.163489237427711; lossacc: 27.90701723098755;\n",
            "finalepoch9: lossmask:0.14848299324512482; loss:0.3396579325199127; lossmaskacc:10.964436039328575; lossacc: 26.288524985313416;\n",
            "finalepoch10: lossmask:0.19829218089580536; loss:0.45983102917671204; lossmaskacc:10.742233216762543; lossacc: 24.921596705913544;\n"
          ]
        }
      ],
      "source": [
        "MODELNAME='model3.pt'\n",
        "LOGPREFIX = 'logof_'\n",
        "savemodel = True\n",
        "warnings.filterwarnings('ignore')\n",
        "torch.manual_seed(0)\n",
        "LEARNING_RATE = 0.001\n",
        "WEIGHT_DECAY = 0.0005\n",
        "MOMENTUM = 0.9\n",
        "NUM_EPOCHS = 10\n",
        "BATCH_SIZE = 2\n",
        "\n",
        "logging.basicConfig(\n",
        "    format='%(levelname)s: %(asctime)s %(message)s',\n",
        "    level = logging.DEBUG,\n",
        "    filename = os.path.join(MODELPATH,LOGPREFIX + MODELNAME.split('.')[0] + '.txt'),\n",
        "    filemode='a'\n",
        ")\n",
        "\n",
        "dataset = WGISDMaskedDataset('./wgisd')\n",
        "dataloader = DataLoader(dataset, BATCH_SIZE, shuffle=True, num_workers = 2, collate_fn=lambda s: tuple(zip(*s)))\n",
        "\n",
        "model = get_maskrcnn()\n",
        "\n",
        "DEVICE = torch.device('cuda') if torch.cuda.is_available() else torch.device('cpu')\n",
        "logging.info(f'DEVICE: {DEVICE}')\n",
        "model.to(DEVICE)\n",
        "\n",
        "for param in model.parameters():\n",
        "    param.requires_grad = True\n",
        "model.train()\n",
        "params = [p for p in model.parameters() if p.requires_grad]\n",
        "optimizer = torch.optim.SGD(params, lr=LEARNING_RATE, momentum=MOMENTUM, weight_decay=WEIGHT_DECAY)\n",
        "n_batches = len(dataloader)\n",
        "totallosses_inepochs = []\n",
        "masklosses_inepochs =[]\n",
        "\n",
        "for epoch in range(1, NUM_EPOCHS + 1):\n",
        "    logging.info(f'Current epoch: {epoch} of {NUM_EPOCHS}')\n",
        "    lossacc= 0.0\n",
        "    lossmaskacc = 0.0\n",
        "    for batchid, (images, targets) in enumerate(dataloader, 1):\n",
        "        images = [image.to(DEVICE) for image in images]\n",
        "        targets = [ {k : v.to(DEVICE) for k, v in t.items()}for t in targets]\n",
        "        loss_dict = model(images, targets)\n",
        "        loss = sum(loss for loss in loss_dict.values())\n",
        "        #backprop\n",
        "        optimizer.zero_grad()\n",
        "        loss.backward()\n",
        "        optimizer.step()\n",
        "\n",
        "        # #logs\n",
        "        lossmask=loss_dict['loss_mask'].item()\n",
        "        lossmaskacc += lossmask\n",
        "        lossacc += loss.item()\n",
        "        if (batchid % 25 ==0):\n",
        "            logging.info(f'lossmask:{lossmask}; loss:{loss.item()}; lossmaskacc:{lossmaskacc}; lossacc: {lossacc};')\n",
        "    #TODO add validation loss calculation\n",
        "    logging.info(f'finalepoch{epoch}: lossmask:{lossmask}; loss:{loss.item()}; lossmaskacc:{lossmaskacc}; lossacc: {lossacc};')\n",
        "    print(f'finalepoch{epoch}: lossmask:{lossmask}; loss:{loss.item()}; lossmaskacc:{lossmaskacc}; lossacc: {lossacc};')\n",
        "    totallosses_inepochs.append(lossacc)\n",
        "    masklosses_inepochs.append(lossmaskacc)\n",
        "if savemodel == True:\n",
        "    torch.save(model.state_dict(), os.path.join(MODELPATH, MODELNAME))\n",
        "logging.info(f'totallosses_inepochs: {totallosses_inepochs}')\n",
        "logging.info(f'masklosses_inepochs: {masklosses_inepochs}')\n",
        "logging.info('finished')"
      ]
    },
    {
      "cell_type": "markdown",
      "metadata": {
        "id": "FM8RIsqvh_3T"
      },
      "source": [
        "Below we perform visualization of results:\n",
        "\n"
      ]
    },
    {
      "cell_type": "code",
      "execution_count": null,
      "metadata": {
        "colab": {
          "base_uri": "https://localhost:8080/"
        },
        "id": "u0arKC6eiAFL",
        "outputId": "991c73e7-2021-406f-e479-faf7e54cbd77"
      },
      "outputs": [
        {
          "output_type": "stream",
          "name": "stdout",
          "text": [
            "src: 13 pred: 19\n"
          ]
        }
      ],
      "source": [
        "LOADMODELNAME='model3.pt'\n",
        "model = get_maskrcnn()\n",
        "if torch.cuda.is_available():\n",
        "    model.load_state_dict(torch.load(os.path.join(MODELPATH, LOADMODELNAME)))\n",
        "else:\n",
        "    model.load_state_dict(torch.load(os.path.join(MODELPATH, LOADMODELNAME), map_location=torch.device('cpu')))\n",
        "\n",
        "dataset=WGISDMaskedDataset('./wgisd/', source='train')\n",
        "model.eval()\n",
        "\n",
        "im, targets = dataset[0]\n",
        "# cv2_imshow(np.moveaxis((im * 255).detach().numpy(), 0, -1))\n",
        "res = model([im])\n",
        "res = res[0] # only one image\n",
        "boxes = res['boxes']\n",
        "masks = res['masks']\n",
        "srcboxes = targets['boxes']\n",
        "srcmasks = targets['masks']\n",
        "print(\"src:\", srcboxes.shape[0], 'pred:', boxes.shape[0])"
      ]
    },
    {
      "cell_type": "code",
      "source": [
        "plot_item(im, boxes, masks, './train1pred')\n",
        "plot_item(im, srcboxes, srcmasks, './train1src')"
      ],
      "metadata": {
        "colab": {
          "base_uri": "https://localhost:8080/",
          "height": 1000
        },
        "id": "9lRvaqTHkCZN",
        "outputId": "43562f07-9111-46e0-a926-a9609ad7ec0b"
      },
      "execution_count": null,
      "outputs": []
    },
    {
      "cell_type": "code",
      "source": [
        "filter_results(res)\n",
        "boxes = res['boxes']\n",
        "masks = res['masks']\n",
        "print(\"src:\", srcboxes.shape[0], 'pred:', boxes.shape[0])\n",
        "plot_item(im, boxes, masks, './train1predfilter')\n",
        "plot_item(im, srcboxes, srcmasks, './train1srcfilter')"
      ],
      "metadata": {
        "colab": {
          "base_uri": "https://localhost:8080/",
          "height": 1000
        },
        "id": "5R-VETAwfTIb",
        "outputId": "572a087c-9f21-429c-8263-12ad7f76da28"
      },
      "execution_count": null,
      "outputs": []
    },
    {
      "cell_type": "markdown",
      "source": [
        "Predictions on test dataset"
      ],
      "metadata": {
        "id": "sn6qOnRiboGI"
      }
    },
    {
      "cell_type": "code",
      "execution_count": null,
      "metadata": {
        "colab": {
          "base_uri": "https://localhost:8080/",
          "height": 1000
        },
        "id": "dimP97k8iAVL",
        "outputId": "200592f6-c93a-4da1-da6b-0c6a49457daf"
      },
      "outputs": [],
      "source": [
        "LOADMODELNAME='model3.pt'\n",
        "model = get_maskrcnn()\n",
        "if torch.cuda.is_available():\n",
        "    model.load_state_dict(torch.load(os.path.join(MODELPATH, LOADMODELNAME)))\n",
        "else:\n",
        "    model.load_state_dict(torch.load(os.path.join(MODELPATH, LOADMODELNAME), map_location=torch.device('cpu')))\n",
        "\n",
        "dataset=WGISDMaskedDataset('./wgisd/', source='test')\n",
        "model.eval()\n",
        "\n",
        "im, targets = dataset[0]\n",
        "res = model([im])\n",
        "res = res[0] # only one image\n",
        "filter_results(res)\n",
        "boxes = res['boxes']\n",
        "masks = res['masks']\n",
        "srcboxes = targets['boxes']\n",
        "srcmasks = targets['masks']\n",
        "print(\"src:\", srcboxes.shape[0], 'pred:', boxes.shape[0])\n",
        "plot_item(im, boxes, masks, './test1predfilter')\n",
        "plot_item(im, srcboxes, srcmasks, './test1srcfilter')"
      ]
    },
    {
      "cell_type": "markdown",
      "source": [
        "Load model and view the metrics"
      ],
      "metadata": {
        "id": "m22rwgosxpXn"
      }
    },
    {
      "cell_type": "code",
      "source": [
        "print('totallosses_inepochs:')\n",
        "plt.plot(totallosses_inepochs)"
      ],
      "metadata": {
        "colab": {
          "base_uri": "https://localhost:8080/",
          "height": 300
        },
        "id": "_F1BM0ehno5t",
        "outputId": "d44a1a76-96a3-4179-9e05-424a0c607ef2"
      },
      "execution_count": null,
      "outputs": [
        {
          "output_type": "stream",
          "name": "stdout",
          "text": [
            "totallosses_inepochs:\n"
          ]
        },
        {
          "output_type": "execute_result",
          "data": {
            "text/plain": [
              "[<matplotlib.lines.Line2D at 0x7f473822e950>]"
            ]
          },
          "metadata": {},
          "execution_count": 39
        },
        {
          "output_type": "display_data",
          "data": {
            "image/png": "[encoded data removed]",
            "text/plain": [
              "<Figure size 432x288 with 1 Axes>"
            ]
          },
          "metadata": {
            "needs_background": "light"
          }
        }
      ]
    },
    {
      "cell_type": "code",
      "source": [
        "print('masklosses_inepochs:')\n",
        "plt.plot(masklosses_inepochs)"
      ],
      "metadata": {
        "colab": {
          "base_uri": "https://localhost:8080/",
          "height": 300
        },
        "id": "c-SqFPgRn7vV",
        "outputId": "2ce05f54-9c6a-4fb8-a14a-b4095238132c"
      },
      "execution_count": null,
      "outputs": [
        {
          "output_type": "stream",
          "name": "stdout",
          "text": [
            "masklosses_inepochs:\n"
          ]
        },
        {
          "output_type": "execute_result",
          "data": {
            "text/plain": [
              "[<matplotlib.lines.Line2D at 0x7f473859b890>]"
            ]
          },
          "metadata": {},
          "execution_count": 40
        },
        {
          "output_type": "display_data",
          "data": {
            "image/png": "[encoded data removed]",
            "text/plain": [
              "<Figure size 432x288 with 1 Axes>"
            ]
          },
          "metadata": {
            "needs_background": "light"
          }
        }
      ]
    },
    {
      "cell_type": "code",
      "source": [
        "res['scores']"
      ],
      "metadata": {
        "colab": {
          "base_uri": "https://localhost:8080/"
        },
        "id": "wcUerbW0_EEM",
        "outputId": "555a660a-ab8a-4154-e65b-c6a8fe6225ff"
      },
      "execution_count": null,
      "outputs": [
        {
          "output_type": "execute_result",
          "data": {
            "text/plain": [
              "tensor([0.9993, 0.9993, 0.9992, 0.9986, 0.9983, 0.9983, 0.9976, 0.9969, 0.9960,\n",
              "        0.9959, 0.9948, 0.9938, 0.9833, 0.9708, 0.9645, 0.9557, 0.9089, 0.8975,\n",
              "        0.6357, 0.5859], grad_fn=<IndexBackward0>)"
            ]
          },
          "metadata": {},
          "execution_count": 44
        }
      ]
    },
    {
      "cell_type": "code",
      "source": [
        "LOADMODELNAME='model3.pt'\n",
        "model = get_maskrcnn()\n",
        "if torch.cuda.is_available():\n",
        "    model.load_state_dict(torch.load(os.path.join(MODELPATH, LOADMODELNAME)))\n",
        "else:\n",
        "    model.load_state_dict(torch.load(os.path.join(MODELPATH, LOADMODELNAME), map_location=torch.device('cpu')))\n",
        "\n",
        "dataset=WGISDMaskedDataset('./wgisd/', source='test')\n",
        "model.eval()\n",
        "\n",
        "im, targets = dataset[0]\n",
        "res = model([im])\n",
        "res = res[0] # only one image\n",
        "filter_results(res)\n",
        "pass"
      ],
      "metadata": {
        "colab": {
          "base_uri": "https://localhost:8080/",
          "height": 101,
          "referenced_widgets": [
            "f72ad025319b4d969268670f7eade91e",
            "749d96239be8446bb826836ec99d72c8",
            "4056a414d24d48b28ad8eef9774cb859",
            "b5a1e2d0b7864792acb49ea852d1e70d",
            "a2bae5af5b0c46609ad46e422089b689",
            "475937ffad4b4c5b82500c6ac8fb5582",
            "ea222d08abfa40019ff9560f763e2032",
            "a9d418cb7af04bda936d94e49421cb99",
            "71156928afc6484d8af30b5e5d2d0e36",
            "ab50a4b9e8484932995a5f4584823743",
            "84b7158cebfd4c3ebc2f0684a2b3f05d"
          ]
        },
        "id": "FYjB4GBzzAqt",
        "outputId": "b5dd2fdf-0a3f-4d5b-cdfd-9fc12958e709"
      },
      "execution_count": null,
      "outputs": [
        {
          "output_type": "stream",
          "name": "stderr",
          "text": [
            "Downloading: \"https://download.pytorch.org/models/maskrcnn_resnet50_fpn_coco-bf2d0c1e.pth\" to /root/.cache/torch/hub/checkpoints/maskrcnn_resnet50_fpn_coco-bf2d0c1e.pth\n"
          ]
        },
        {
          "output_type": "display_data",
          "data": {
            "application/vnd.jupyter.widget-view+json": {
              "model_id": "f72ad025319b4d969268670f7eade91e",
              "version_minor": 0,
              "version_major": 2
            },
            "text/plain": [
              "  0%|          | 0.00/170M [00:00<?, ?B/s]"
            ]
          },
          "metadata": {}
        },
        {
          "output_type": "stream",
          "name": "stderr",
          "text": [
            "/usr/local/lib/python3.7/dist-packages/torch/functional.py:445: UserWarning: torch.meshgrid: in an upcoming release, it will be required to pass the indexing argument. (Triggered internally at  ../aten/src/ATen/native/TensorShape.cpp:2157.)\n",
            "  return _VF.meshgrid(tensors, **kwargs)  # type: ignore[attr-defined]\n"
          ]
        }
      ]
    },
    {
      "cell_type": "code",
      "source": [
        "avgprec= average_precision(targets['masks'], res['masks'])\n",
        "avgrec = average_recall(targets['masks'], res['masks'])\n",
        "fres = fscore(targets['masks'], res['masks'])\n",
        "print(\"Precision:\",avgprec)\n",
        "print(\"Recall:\", avgrec)\n",
        "print(\"F1-score:\", fres)"
      ],
      "metadata": {
        "colab": {
          "base_uri": "https://localhost:8080/"
        },
        "id": "M2Yqr8gFYbfF",
        "outputId": "939a9532-b588-4ae4-acd2-238173c069d7"
      },
      "execution_count": null,
      "outputs": [
        {
          "output_type": "stream",
          "name": "stdout",
          "text": [
            "Precision: tensor(0.8965)\n",
            "Recall: tensor(0.8179)\n",
            "F1-score: tensor(0.8554)\n"
          ]
        }
      ]
    },
    {
      "cell_type": "code",
      "source": [
        "%time fscore(targets['masks'], res['masks'])"
      ],
      "metadata": {
        "colab": {
          "base_uri": "https://localhost:8080/"
        },
        "id": "Z1hV2njt-_fS",
        "outputId": "c266c089-1fbc-47ad-d7d0-8c116cc0c9a1"
      },
      "execution_count": null,
      "outputs": [
        {
          "output_type": "stream",
          "name": "stdout",
          "text": [
            "CPU times: user 4.74 s, sys: 82.2 ms, total: 4.82 s\n",
            "Wall time: 5.01 s\n"
          ]
        },
        {
          "output_type": "execute_result",
          "data": {
            "text/plain": [
              "tensor(0.8554)"
            ]
          },
          "metadata": {},
          "execution_count": 18
        }
      ]
    },
    {
      "cell_type": "markdown",
      "source": [
        "Perform evaluation on test dataset and validation dataset:"
      ],
      "metadata": {
        "id": "VO3jVJ463-96"
      }
    },
    {
      "cell_type": "code",
      "source": [
        "print_datsetslens()"
      ],
      "metadata": {
        "colab": {
          "base_uri": "https://localhost:8080/"
        },
        "id": "K_uF0ZGg4ILV",
        "outputId": "1ba71894-0785-4f84-c993-f194661916a4"
      },
      "execution_count": null,
      "outputs": [
        {
          "output_type": "stream",
          "name": "stdout",
          "text": [
            "trainlen: 110\n",
            "testlen: 14\n",
            "validlen: 14\n",
            "split proportion: 0.7971014492753623 : 0.10144927536231885 : 0.10144927536231885\n"
          ]
        }
      ]
    },
    {
      "cell_type": "markdown",
      "source": [
        "Metrics that we choice are precisision and recall, which are evaluated in terms of number of pixels"
      ],
      "metadata": {
        "id": "Yfbv0IbYonZB"
      }
    },
    {
      "cell_type": "code",
      "execution_count": null,
      "metadata": {
        "id": "Z2NHfoC6xpdE",
        "colab": {
          "base_uri": "https://localhost:8080/"
        },
        "outputId": "6b8a51be-b929-49ac-b8a8-a2ecb895ecf2"
      },
      "outputs": [
        {
          "output_type": "stream",
          "name": "stdout",
          "text": [
            "cat: /googledrive/MyDrive/uczelnia/computer_vision/instance_segmentation_grapes/models/logof_model3.txt: No such file or directory\n"
          ]
        }
      ],
      "source": [
        "!cat /googledrive/MyDrive/uczelnia/computer_vision/instance_segmentation_grapes/models/logof_model3.txt"
      ]
    }
  ],
  "metadata": {
    "colab": {
      "collapsed_sections": [],
      "name": "EvaluateMaskRCNN3.ipynb",
      "provenance": []
    },
    "kernelspec": {
      "display_name": "Python 3",
      "name": "python3"
    },
    "language_info": {
      "name": "python"
    },
    "widgets": {
      "application/vnd.jupyter.widget-state+json": {
        "f72ad025319b4d969268670f7eade91e": {
          "model_module": "@jupyter-widgets/controls",
          "model_name": "HBoxModel",
          "model_module_version": "1.5.0",
          "state": {
            "_view_name": "HBoxView",
            "_dom_classes": [],
            "_model_name": "HBoxModel",
            "_view_module": "@jupyter-widgets/controls",
            "_model_module_version": "1.5.0",
            "_view_count": null,
            "_view_module_version": "1.5.0",
            "box_style": "",
            "layout": "IPY_MODEL_749d96239be8446bb826836ec99d72c8",
            "_model_module": "@jupyter-widgets/controls",
            "children": [
              "IPY_MODEL_4056a414d24d48b28ad8eef9774cb859",
              "IPY_MODEL_b5a1e2d0b7864792acb49ea852d1e70d",
              "IPY_MODEL_a2bae5af5b0c46609ad46e422089b689"
            ]
          }
        },
        "749d96239be8446bb826836ec99d72c8": {
          "model_module": "@jupyter-widgets/base",
          "model_name": "LayoutModel",
          "model_module_version": "1.2.0",
          "state": {
            "_view_name": "LayoutView",
            "grid_template_rows": null,
            "right": null,
            "justify_content": null,
            "_view_module": "@jupyter-widgets/base",
            "overflow": null,
            "_model_module_version": "1.2.0",
            "_view_count": null,
            "flex_flow": null,
            "width": null,
            "min_width": null,
            "border": null,
            "align_items": null,
            "bottom": null,
            "_model_module": "@jupyter-widgets/base",
            "top": null,
            "grid_column": null,
            "overflow_y": null,
            "overflow_x": null,
            "grid_auto_flow": null,
            "grid_area": null,
            "grid_template_columns": null,
            "flex": null,
            "_model_name": "LayoutModel",
            "justify_items": null,
            "grid_row": null,
            "max_height": null,
            "align_content": null,
            "visibility": null,
            "align_self": null,
            "height": null,
            "min_height": null,
            "padding": null,
            "grid_auto_rows": null,
            "grid_gap": null,
            "max_width": null,
            "order": null,
            "_view_module_version": "1.2.0",
            "grid_template_areas": null,
            "object_position": null,
            "object_fit": null,
            "grid_auto_columns": null,
            "margin": null,
            "display": null,
            "left": null
          }
        },
        "4056a414d24d48b28ad8eef9774cb859": {
          "model_module": "@jupyter-widgets/controls",
          "model_name": "HTMLModel",
          "model_module_version": "1.5.0",
          "state": {
            "_view_name": "HTMLView",
            "style": "IPY_MODEL_475937ffad4b4c5b82500c6ac8fb5582",
            "_dom_classes": [],
            "description": "",
            "_model_name": "HTMLModel",
            "placeholder": "​",
            "_view_module": "@jupyter-widgets/controls",
            "_model_module_version": "1.5.0",
            "value": "100%",
            "_view_count": null,
            "_view_module_version": "1.5.0",
            "description_tooltip": null,
            "_model_module": "@jupyter-widgets/controls",
            "layout": "IPY_MODEL_ea222d08abfa40019ff9560f763e2032"
          }
        },
        "b5a1e2d0b7864792acb49ea852d1e70d": {
          "model_module": "@jupyter-widgets/controls",
          "model_name": "FloatProgressModel",
          "model_module_version": "1.5.0",
          "state": {
            "_view_name": "ProgressView",
            "style": "IPY_MODEL_a9d418cb7af04bda936d94e49421cb99",
            "_dom_classes": [],
            "description": "",
            "_model_name": "FloatProgressModel",
            "bar_style": "success",
            "max": 178090079,
            "_view_module": "@jupyter-widgets/controls",
            "_model_module_version": "1.5.0",
            "value": 178090079,
            "_view_count": null,
            "_view_module_version": "1.5.0",
            "orientation": "horizontal",
            "min": 0,
            "description_tooltip": null,
            "_model_module": "@jupyter-widgets/controls",
            "layout": "IPY_MODEL_71156928afc6484d8af30b5e5d2d0e36"
          }
        },
        "a2bae5af5b0c46609ad46e422089b689": {
          "model_module": "@jupyter-widgets/controls",
          "model_name": "HTMLModel",
          "model_module_version": "1.5.0",
          "state": {
            "_view_name": "HTMLView",
            "style": "IPY_MODEL_ab50a4b9e8484932995a5f4584823743",
            "_dom_classes": [],
            "description": "",
            "_model_name": "HTMLModel",
            "placeholder": "​",
            "_view_module": "@jupyter-widgets/controls",
            "_model_module_version": "1.5.0",
            "value": " 170M/170M [00:02&lt;00:00, 68.1MB/s]",
            "_view_count": null,
            "_view_module_version": "1.5.0",
            "description_tooltip": null,
            "_model_module": "@jupyter-widgets/controls",
            "layout": "IPY_MODEL_84b7158cebfd4c3ebc2f0684a2b3f05d"
          }
        },
        "475937ffad4b4c5b82500c6ac8fb5582": {
          "model_module": "@jupyter-widgets/controls",
          "model_name": "DescriptionStyleModel",
          "model_module_version": "1.5.0",
          "state": {
            "_view_name": "StyleView",
            "_model_name": "DescriptionStyleModel",
            "description_width": "",
            "_view_module": "@jupyter-widgets/base",
            "_model_module_version": "1.5.0",
            "_view_count": null,
            "_view_module_version": "1.2.0",
            "_model_module": "@jupyter-widgets/controls"
          }
        },
        "ea222d08abfa40019ff9560f763e2032": {
          "model_module": "@jupyter-widgets/base",
          "model_name": "LayoutModel",
          "model_module_version": "1.2.0",
          "state": {
            "_view_name": "LayoutView",
            "grid_template_rows": null,
            "right": null,
            "justify_content": null,
            "_view_module": "@jupyter-widgets/base",
            "overflow": null,
            "_model_module_version": "1.2.0",
            "_view_count": null,
            "flex_flow": null,
            "width": null,
            "min_width": null,
            "border": null,
            "align_items": null,
            "bottom": null,
            "_model_module": "@jupyter-widgets/base",
            "top": null,
            "grid_column": null,
            "overflow_y": null,
            "overflow_x": null,
            "grid_auto_flow": null,
            "grid_area": null,
            "grid_template_columns": null,
            "flex": null,
            "_model_name": "LayoutModel",
            "justify_items": null,
            "grid_row": null,
            "max_height": null,
            "align_content": null,
            "visibility": null,
            "align_self": null,
            "height": null,
            "min_height": null,
            "padding": null,
            "grid_auto_rows": null,
            "grid_gap": null,
            "max_width": null,
            "order": null,
            "_view_module_version": "1.2.0",
            "grid_template_areas": null,
            "object_position": null,
            "object_fit": null,
            "grid_auto_columns": null,
            "margin": null,
            "display": null,
            "left": null
          }
        },
        "a9d418cb7af04bda936d94e49421cb99": {
          "model_module": "@jupyter-widgets/controls",
          "model_name": "ProgressStyleModel",
          "model_module_version": "1.5.0",
          "state": {
            "_view_name": "StyleView",
            "_model_name": "ProgressStyleModel",
            "description_width": "",
            "_view_module": "@jupyter-widgets/base",
            "_model_module_version": "1.5.0",
            "_view_count": null,
            "_view_module_version": "1.2.0",
            "bar_color": null,
            "_model_module": "@jupyter-widgets/controls"
          }
        },
        "71156928afc6484d8af30b5e5d2d0e36": {
          "model_module": "@jupyter-widgets/base",
          "model_name": "LayoutModel",
          "model_module_version": "1.2.0",
          "state": {
            "_view_name": "LayoutView",
            "grid_template_rows": null,
            "right": null,
            "justify_content": null,
            "_view_module": "@jupyter-widgets/base",
            "overflow": null,
            "_model_module_version": "1.2.0",
            "_view_count": null,
            "flex_flow": null,
            "width": null,
            "min_width": null,
            "border": null,
            "align_items": null,
            "bottom": null,
            "_model_module": "@jupyter-widgets/base",
            "top": null,
            "grid_column": null,
            "overflow_y": null,
            "overflow_x": null,
            "grid_auto_flow": null,
            "grid_area": null,
            "grid_template_columns": null,
            "flex": null,
            "_model_name": "LayoutModel",
            "justify_items": null,
            "grid_row": null,
            "max_height": null,
            "align_content": null,
            "visibility": null,
            "align_self": null,
            "height": null,
            "min_height": null,
            "padding": null,
            "grid_auto_rows": null,
            "grid_gap": null,
            "max_width": null,
            "order": null,
            "_view_module_version": "1.2.0",
            "grid_template_areas": null,
            "object_position": null,
            "object_fit": null,
            "grid_auto_columns": null,
            "margin": null,
            "display": null,
            "left": null
          }
        },
        "ab50a4b9e8484932995a5f4584823743": {
          "model_module": "@jupyter-widgets/controls",
          "model_name": "DescriptionStyleModel",
          "model_module_version": "1.5.0",
          "state": {
            "_view_name": "StyleView",
            "_model_name": "DescriptionStyleModel",
            "description_width": "",
            "_view_module": "@jupyter-widgets/base",
            "_model_module_version": "1.5.0",
            "_view_count": null,
            "_view_module_version": "1.2.0",
            "_model_module": "@jupyter-widgets/controls"
          }
        },
        "84b7158cebfd4c3ebc2f0684a2b3f05d": {
          "model_module": "@jupyter-widgets/base",
          "model_name": "LayoutModel",
          "model_module_version": "1.2.0",
          "state": {
            "_view_name": "LayoutView",
            "grid_template_rows": null,
            "right": null,
            "justify_content": null,
            "_view_module": "@jupyter-widgets/base",
            "overflow": null,
            "_model_module_version": "1.2.0",
            "_view_count": null,
            "flex_flow": null,
            "width": null,
            "min_width": null,
            "border": null,
            "align_items": null,
            "bottom": null,
            "_model_module": "@jupyter-widgets/base",
            "top": null,
            "grid_column": null,
            "overflow_y": null,
            "overflow_x": null,
            "grid_auto_flow": null,
            "grid_area": null,
            "grid_template_columns": null,
            "flex": null,
            "_model_name": "LayoutModel",
            "justify_items": null,
            "grid_row": null,
            "max_height": null,
            "align_content": null,
            "visibility": null,
            "align_self": null,
            "height": null,
            "min_height": null,
            "padding": null,
            "grid_auto_rows": null,
            "grid_gap": null,
            "max_width": null,
            "order": null,
            "_view_module_version": "1.2.0",
            "grid_template_areas": null,
            "object_position": null,
            "object_fit": null,
            "grid_auto_columns": null,
            "margin": null,
            "display": null,
            "left": null
          }
        }
      }
    }
  },
  "nbformat": 4,
  "nbformat_minor": 0
}