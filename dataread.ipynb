{
 "cells": [
  {
   "cell_type": "code",
   "execution_count": 1,
   "metadata": {},
   "outputs": [
    {
     "data": {
      "text/plain": [
       "Ellipsis"
      ]
     },
     "execution_count": 1,
     "metadata": {},
     "output_type": "execute_result"
    }
   ],
   "source": [
    "import os\n",
    "import numpy as np\n",
    "import torch\n",
    "from torch.utils.data import Dataset, DataLoader\n",
    "from PIL import Image\n",
    "#already written Dataset taken from wgisd repo based on directory structures\n",
    "class WGISDMaskedDataset(Dataset):\n",
    "    def __init__(self, root, transforms=None, source='train'):\n",
    "        self.root = root\n",
    "        self.transforms = transforms\n",
    "        \n",
    "        if source not in ('train', 'test'):\n",
    "            print('source should be by \"train\" or \"test\"')\n",
    "            return None\n",
    "\n",
    "        source_path = os.path.join(root, f'{source}_masked.txt')\n",
    "        with open(source_path, 'r') as fp:\n",
    "          lines = fp.readlines()\n",
    "          ids = [l.rstrip() for l in lines]# removes /n at the end of each line\n",
    "\n",
    "        self.imgs = [os.path.join(root, 'data', f'{id}.jpg') for id in ids]\n",
    "        self.masks = [os.path.join(root, 'data', f'{id}.npz') for id in ids]\n",
    "        self.boxes = [os.path.join(root, 'data', f'{id}.txt') for id in ids]\n",
    "\n",
    "    def __getitem__(self, idx):\n",
    "        img_path = self.imgs[idx]\n",
    "        mask_path = self.masks[idx]\n",
    "        box_path = self.boxes[idx]\n",
    "\n",
    "        img = Image.open(img_path).convert(\"RGB\")\n",
    "\n",
    "        # From TorchVision documentation:\n",
    "        # \n",
    "        # The models expect a list of Tensor[C, H, W], in the range 0-1. \n",
    "        # The models internally resize the images so that they have a minimum \n",
    "        # size of 800. This option can be changed by passing the option min_size \n",
    "        # to the constructor of the models.\n",
    "        \n",
    "        if self.transforms is None:\n",
    "            pass\n",
    "        else:\n",
    "            img = np.array(img)\n",
    "            img = self.transforms(torch.as_tensor(img, dtype=torch.uint8))\n",
    "\n",
    "        img = np.array(img)\n",
    "        # Normalize\n",
    "        img = (img - img.min()) / np.max([img.max() - img.min(), 1])\n",
    "        # Move the channels axe to the first position, getting C, H, W instead H, W, C\n",
    "        img = np.moveaxis(img, -1, 0)\n",
    "        img = torch.as_tensor(img, dtype=torch.float32)  \n",
    "\n",
    "        # Loading masks:\n",
    "        #\n",
    "        # As seen in WGISD (README.md):\n",
    "        # \n",
    "        # After assigning the NumPy array to a variable M, the mask for the \n",
    "        # i-th grape cluster can be found in M[:,:,i]. The i-th mask corresponds \n",
    "        # to the i-th line in the bounding boxes file.\n",
    "        #\n",
    "        # According to Mask RCNN documentation in Torchvision:\n",
    "        #\n",
    "        # During training, the model expects both the input tensors, as well as \n",
    "        # a targets (list of dictionary), containing:\n",
    "        # (...) \n",
    "        # masks (UInt8Tensor[N, H, W]): the segmentation binary masks for each \n",
    "        # instance\n",
    "        wgisd_masks = np.load(mask_path)['arr_0'].astype(np.uint8)\n",
    "        masks = np.moveaxis(wgisd_masks, -1, 0) \n",
    "\n",
    "        num_objs = masks.shape[0]\n",
    "        all_text = np.loadtxt(box_path, delimiter = \" \", dtype = np.float32)\n",
    "        wgisd_boxes = all_text[:,1:]\n",
    "        assert(wgisd_boxes.shape[0] == num_objs)\n",
    "\n",
    "        # IMPORTANT: Torchvision considers 0 as background. So, let's make grapes\n",
    "        # grapes as class 1\n",
    "        labels = np.ones(num_objs, dtype=np.int64)\n",
    "\n",
    "        # According to WGISD:\n",
    "        #\n",
    "        # These text files follows the \"YOLO format\"\n",
    "        # \n",
    "        # CLASS CX CY W H\n",
    "        # \n",
    "        # class is an integer defining the object class – the dataset presents \n",
    "        # only the grape class that is numbered 0, so every line starts with \n",
    "        # this \"class zero\" indicator. The center of the bounding box is the \n",
    "        # point (c_x, c_y), represented as float values because this format \n",
    "        # normalizes the coordinates by the image dimensions. To get the \n",
    "        # absolute position, use (2048 c_x, 1365 c_y). The bounding box \n",
    "        # dimensions are given by W and H, also normalized by the image size.\n",
    "        #\n",
    "        # Torchvision's Mask R-CNN expects absolute coordinates.\n",
    "        _, height, width = img.shape\n",
    "\n",
    "        boxes = []\n",
    "        for box in wgisd_boxes:\n",
    "            x1 = box[0] - box[2]/2\n",
    "            x2 = box[0] + box[2]/2\n",
    "            y1 = box[1] - box[3]/2\n",
    "            y2 = box[1] + box[3]/2\n",
    "            boxes.append([x1 * width, y1 * height, x2 * width, y2 * height])\n",
    "        \n",
    "        # convert everything into a torch.Tensor\n",
    "        boxes = torch.as_tensor(boxes, dtype=torch.float32)\n",
    "        # there is only one class\n",
    "        labels = torch.ones((num_objs,), dtype=torch.int64)\n",
    "        # ou poderíamos usar\n",
    "        # labels = torch.as_tensor(labels, dtype=torch.int64)\n",
    "        masks = torch.as_tensor(masks, dtype=torch.uint8)\n",
    "        image_id = torch.tensor([idx])\n",
    "\n",
    "        target = {\n",
    "            \"boxes\": boxes,\n",
    "            \"labels\": labels,\n",
    "            \"masks\": masks,\n",
    "            \"image_id\": image_id\n",
    "        }\n",
    "\n",
    "        return img, target\n",
    "\n",
    "    def __len__(self):\n",
    "        return len(self.imgs)\n",
    "\n",
    "varietals = ['CDY', 'CFR', 'CSV', 'SVB', 'SYH']\n",
    "instances = {v: [] for v in varietals}\n",
    "\n",
    "for dirname, dirnames, filenames in os.walk('./wgisd/data/'):\n",
    "    if dirname == './wgisd/data/':\n",
    "        for filename in [f for f in filenames if f.endswith('.txt')]:\n",
    "            for v in varietals:\n",
    "                if filename.startswith(v):\n",
    "                    instances[v].append(filename[:-4])\n",
    "instances\n",
    "\n",
    "n_iboxes = {v: {} for v in varietals}\n",
    "\n",
    "for v in varietals:\n",
    "    for ii in instances[v]:\n",
    "        annot_file = os.path.join('./wgisd/data', ii + '.txt')\n",
    "        bboxes = np.loadtxt(annot_file)\n",
    "        n_iboxes[v][ii] = bboxes.shape[0]\n",
    "\n",
    "n_iboxes\n",
    "..."
   ]
  },
  {
   "cell_type": "markdown",
   "metadata": {},
   "source": [
    "There is an easy way to provide torch Dataset:"
   ]
  },
  {
   "cell_type": "code",
   "execution_count": 2,
   "metadata": {},
   "outputs": [
    {
     "name": "stdout",
     "output_type": "stream",
     "text": [
      "boxes torch.Size([12, 4]) torch.float32\n",
      "labels torch.Size([12]) torch.int64\n",
      "masks torch.Size([12, 1365, 2048]) torch.uint8\n",
      "image_id torch.Size([1]) torch.int64\n",
      "image shape: torch.Size([3, 1365, 2048])\n"
     ]
    }
   ],
   "source": [
    "dataset = WGISDMaskedDataset('./wgisd')\n",
    "im, target = dataset[4]\n",
    "for k, v in target.items():\n",
    "    print(k, v.shape, v.dtype)\n",
    "print(\"image shape:\", im.shape)"
   ]
  },
  {
   "cell_type": "code",
   "execution_count": 13,
   "metadata": {},
   "outputs": [
    {
     "name": "stdout",
     "output_type": "stream",
     "text": [
      "1\n",
      "2\n",
      "3\n",
      "4\n",
      "5\n",
      "6\n",
      "7\n",
      "8\n"
     ]
    }
   ],
   "source": [
    "from torchvision.models.detection.mask_rcnn import MaskRCNNPredictor\n",
    "from torchvision.models.detection.faster_rcnn import FastRCNNPredictor\n",
    "import torchvision\n",
    "import logging\n",
    "logging.basicConfig(encoding = 'utf-8',level = logging.NOTSET)\n",
    "NUM_CLASSES = 2\n",
    "LEARNING_RATE = 0.001\n",
    "WEIGHT_DECAY = 0.0005\n",
    "MOMENTUM = 0.9\n",
    "NUM_EPOCHS = 8\n",
    "\n",
    "model = torchvision.models.detection.maskrcnn_resnet50_fpn(pretrained=True)\n",
    "in_features = model.roi_heads.box_predictor.cls_score.in_features\n",
    "#replace head predictor (boxes)\n",
    "model.roi_heads.box_predictor = FastRCNNPredictor(in_features, NUM_CLASSES)\n",
    "in_features_mask = model.roi_heads.mask_predictor.conv5_mask.in_channels\n",
    "hidden_layer = 256\n",
    "#replace mask predictor\n",
    "model.roi_heads.mask_predictor = MaskRCNNPredictor(in_features_mask, hidden_layer, NUM_CLASSES)\n",
    "DEVICE = torch.device('cuda') if torch.cuda.is_available() else torch.device('cpu')\n",
    "model.to(DEVICE)\n",
    "for param in model.parameters():\n",
    "    param.requires_grad = True\n",
    "model.train()\n",
    "params = [p for p in model.parameters() if p.requires_grad]\n",
    "optimizer = torch.optim.SGD(params, lr=LEARNING_RATE, momentum=MOMENTUM, weight_decay=WEIGHT_DECAY)\n",
    "lr_scheduler = torch.optim.lr_scheduler.StepLR(optimizer, step_size=5, gamma=0.1)\n",
    "n_batches = len(dataset)\n",
    "for epoch in range(1, NUM_EPOCHS + 1):\n",
    "    print(epoch)\n",
    "    logging.info(f'Current epoch: {epoch} of {NUM_EPOCHS}')"
   ]
  },
  {
   "cell_type": "code",
   "execution_count": 4,
   "metadata": {},
   "outputs": [
    {
     "data": {
      "text/plain": [
       "1024"
      ]
     },
     "execution_count": 4,
     "metadata": {},
     "output_type": "execute_result"
    }
   ],
   "source": [
    "logging.info()"
   ]
  }
 ],
 "metadata": {
  "interpreter": {
   "hash": "3f8274016483a9f0be0da2debbdd336e0ed09cc2a23fb181bd66726a62ac7727"
  },
  "kernelspec": {
   "display_name": "Python 3.8.12 64-bit ('py38': conda)",
   "language": "python",
   "name": "python3"
  },
  "language_info": {
   "codemirror_mode": {
    "name": "ipython",
    "version": 3
   },
   "file_extension": ".py",
   "mimetype": "text/x-python",
   "name": "python",
   "nbconvert_exporter": "python",
   "pygments_lexer": "ipython3",
   "version": "3.8.12"
  },
  "orig_nbformat": 4
 },
 "nbformat": 4,
 "nbformat_minor": 2
}
