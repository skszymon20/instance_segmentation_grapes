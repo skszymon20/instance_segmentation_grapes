{
  "cells": [
    {
      "cell_type": "code",
      "execution_count": 1,
      "metadata": {
        "colab": {
          "base_uri": "https://localhost:8080/",
          "height": 130
        },
        "id": "2b1HDVB4UWiN",
        "outputId": "8862a82a-08c5-486b-ad1e-5059c3e0de3b"
      },
      "outputs": [],
      "source": [
        "#@title\n",
        "# !git clone https://github.com/thsant/wgisd.git\n",
        "HEIGHT, WIDTH = 1365, 2048\n",
        "MASKTHRESH = 0.5\n",
        "# from google.colab import drive\n",
        "# drive.mount('/googledrive')\n",
        "# MODELPATH = '/googledrive/MyDrive/uczelnia/computer_vision/instance_segmentation_grapes/models/'\n",
        "MODELPATH = './'\n",
        "from random import shuffle\n",
        "from torchvision.models.detection.mask_rcnn import MaskRCNNPredictor\n",
        "from torchvision.models.detection.faster_rcnn import FastRCNNPredictor\n",
        "from torchvision.models.detection.ssd import det_utils\n",
        "from torchvision.ops import nms\n",
        "import torchvision\n",
        "import logging\n",
        "import os\n",
        "import numpy as np\n",
        "import torch\n",
        "from torch.utils.data import Dataset, DataLoader\n",
        "from PIL import Image\n",
        "import torch\n",
        "import warnings\n",
        "import random\n",
        "import colorsys\n",
        "import matplotlib.pyplot as plt\n",
        "from matplotlib import patches\n",
        "from matplotlib.patches import Polygon\n",
        "from skimage.color import label2rgb\n",
        "import torch.nn.functional as F\n",
        "from torchvision.ops import roi_align\n",
        "from torchvision.models.detection.roi_heads import project_masks_on_boxes\n",
        "from time import time\n",
        "from pathlib import Path\n",
        "import json\n",
        "import cv2\n",
        "import pandas as pd\n",
        "\n",
        "\n",
        "class WGISDMaskedDataset(Dataset):\n",
        "    def __init__(self, root, transforms=None, source='train'):\n",
        "        self.root = root\n",
        "        self.transforms = transforms\n",
        "        \n",
        "        if source not in ('train', 'test', 'valid'):\n",
        "            print('source should be by \"train\" or \"test\"')\n",
        "            return None\n",
        "\n",
        "        srcpref = source\n",
        "        if source == 'valid':\n",
        "            srcpref = 'test'\n",
        "        source_path = os.path.join(root, f'{srcpref}_masked.txt')\n",
        "        with open(source_path, 'r') as fp:\n",
        "          lines = fp.readlines()\n",
        "          ids = [l.rstrip() for l in lines if len(l)>=3]# removes /n at the end of each line\n",
        "\n",
        "        self.imgs = [os.path.join(root, 'data', f'{id}.jpg') for id in ids]\n",
        "        self.masks = [os.path.join(root, 'data', f'{id}.npz') for id in ids]\n",
        "        self.boxes = [os.path.join(root, 'data', f'{id}.txt') for id in ids]\n",
        "\n",
        "        #performing additional dataset split test -> test, valid\n",
        "        if source == 'test':\n",
        "            self.imgs = self.imgs[(len(self.imgs)+1) // 2 : ]\n",
        "            self.masks = self.masks[(len(self.masks)+1) // 2 : ]\n",
        "            self.boxes = self.boxes[(len(self.boxes)+1) // 2 : ]\n",
        "        elif source == 'valid':\n",
        "            self.imgs = self.imgs[ : (len(self.imgs)+1) // 2 ]\n",
        "            self.masks = self.masks[ : (len(self.masks)+1) // 2 ]\n",
        "            self.boxes = self.boxes[ : (len(self.boxes)+1) // 2 ]\n",
        "\n",
        "    def __getitem__(self, idx):\n",
        "        img_path = self.imgs[idx]\n",
        "        mask_path = self.masks[idx]\n",
        "        box_path = self.boxes[idx]\n",
        "\n",
        "        img = cv2.imread(img_path)\n",
        "        cv2.cvtColor(img, cv2.COLOR_BGR2RGB)\n",
        "        height, width, _ = img.shape\n",
        "        wgisd_masks = np.load(mask_path)['arr_0'].astype(np.uint8)\n",
        "        num_objs = wgisd_masks.shape[-1]\n",
        "        all_text = np.loadtxt(box_path, delimiter = \" \", dtype = np.float32)\n",
        "        wgisd_boxes = all_text[:,1:]\n",
        "        assert(wgisd_boxes.shape[0] == num_objs)\n",
        "        boxes = []\n",
        "        for box in wgisd_boxes:\n",
        "            x1 = box[0] - box[2]/2\n",
        "            x2 = box[0] + box[2]/2\n",
        "            y1 = box[1] - box[3]/2\n",
        "            y2 = box[1] + box[3]/2\n",
        "            boxes.append([x1 * width, y1 * height, x2 * width, y2 * height])\n",
        "        masks = np.moveaxis(wgisd_masks, -1, 0)\n",
        "        labels = np.ones(num_objs, dtype=np.int64)\n",
        "        if self.transforms is None:\n",
        "            pass\n",
        "        else:\n",
        "            masks = list(masks)\n",
        "            augmented = self.transforms(image=img, masks = masks, bboxes = boxes, class_labels = labels) \n",
        "            img = augmented['image']\n",
        "            boxes = augmented['bboxes']\n",
        "            masks = augmented['masks']\n",
        "            img = np.asarray(img)\n",
        "\n",
        "        img = np.array(img)\n",
        "        # Normalize\n",
        "        img = (img - img.min()) / np.max([img.max() - img.min(), 1])\n",
        "        # torch expects channels as first input:\n",
        "        img = np.moveaxis(img, -1, 0)\n",
        "        img = torch.as_tensor(img, dtype=torch.float32)\n",
        "\n",
        "        boxes = torch.as_tensor(boxes, dtype=torch.float32)\n",
        "        labels = torch.ones((num_objs,), dtype=torch.int64)\n",
        "        masks = torch.as_tensor(masks, dtype=torch.uint8)\n",
        "        image_id = torch.tensor([idx])\n",
        "\n",
        "        target = {\n",
        "            \"boxes\": boxes,\n",
        "            \"labels\": labels,\n",
        "            \"masks\": masks,\n",
        "            \"image_id\": image_id\n",
        "        }\n",
        "\n",
        "        return img, target\n",
        "\n",
        "    def __len__(self):\n",
        "        return len(self.imgs)\n",
        "\n",
        "\n",
        "def filter_results(results : dict, confidence_thresh = 0.8):\n",
        "    res = results.copy()\n",
        "    scores = results['scores']\n",
        "    res['boxes'] = results['boxes'][scores > confidence_thresh]\n",
        "    res['labels'] = results['labels'][scores >confidence_thresh]\n",
        "    res['masks'] = results['masks'][scores>confidence_thresh]\n",
        "    res['scores'] = results['scores'][scores > confidence_thresh]\n",
        "    return res\n",
        "\n",
        "def nmscombined(orig_predicted, iou_thresh = 0.3):\n",
        "    '''\n",
        "    performs non max suppression on the results\n",
        "    '''\n",
        "    keep = nms(orig_predicted['boxes'], orig_predicted['scores'], iou_thresh)\n",
        "    final_pred = orig_predicted\n",
        "    final_pred['boxes'] = final_pred['boxes'][keep]\n",
        "    final_pred['masks'] = final_pred['masks'][keep]\n",
        "    final_pred['scores'] = final_pred['scores'][keep]\n",
        "    final_pred['labels'] = final_pred['labels'][keep]\n",
        "    return final_pred\n",
        "\n",
        "def calcTP(GTmasks, predmasks, predscores, IoU_thresh = 0.5, maskthresh = MASKTHRESH):\n",
        "    \"\"\"\n",
        "    Parameters\n",
        "    ----------\n",
        "    GTmasks : Ground Truth masks\n",
        "    predmasks : Predicted Masks from the model\n",
        "    \n",
        "    Returns\n",
        "    ------------\n",
        "    TruePositives\n",
        "    \"\"\"\n",
        "    predmasks = predmasks > maskthresh\n",
        "    metric = 0\n",
        "    GTmasksEvaluated = [False for i in range(GTmasks.shape[0])]\n",
        "    TP = 0\n",
        "    for predmask in predmasks[predscores.argsort(descending = True)]:\n",
        "        andresult=torch.logical_and(GTmasks, predmask )\n",
        "        imgid = torch.argmax(andresult.sum([-1, -2]))\n",
        "        if GTmasksEvaluated[imgid]:\n",
        "            continue\n",
        "        gtmask = GTmasks[imgid]\n",
        "        intersection = andresult[imgid]\n",
        "        union = torch.logical_or(gtmask, predmask)\n",
        "        iou = intersection.sum() / union.sum()\n",
        "        if iou >= IoU_thresh:\n",
        "            GTmasksEvaluated[imgid] = True\n",
        "            TP += 1\n",
        "    return TP\n",
        "\n",
        "def precision_frompreds(GTmasks, predmasks, predscores, IoU_thresh = 0.5, maskthresh = MASKTHRESH):\n",
        "    TP = calcTP(GTmasks, predmasks, predscores, IoU_thresh, maskthresh)\n",
        "    return TP / predmasks.shape[0]\n",
        "\n",
        "def recall_frompreds(GTmasks, predmasks, predscores, IoU_thresh = 0.5,maskthresh = MASKTHRESH):\n",
        "    TP = calcTP(GTmasks, predmasks, predscores, IoU_thresh, maskthresh)\n",
        "    return TP / GTmasks.shape[0]\n",
        "\n",
        "def fscore(precision, recall):\n",
        "    return 2 * precision * recall / (precision + recall)\n",
        "\n",
        "def print_datsetslens():\n",
        "    train=WGISDMaskedDataset('./wgisd/', source='train')\n",
        "    test=WGISDMaskedDataset('./wgisd/', source='test')\n",
        "    valid = WGISDMaskedDataset('./wgisd/', source='valid')\n",
        "    print('trainlen:', len(train))\n",
        "    print('testlen:', len(test))\n",
        "    print('validlen:', len(valid))\n",
        "    den = len(train) + len(valid) + len(test)\n",
        "    print(f'split proportion: {len(train) / den} : {len(test) / den} : {len(valid) / den}')\n",
        "\n",
        "class DiceLoss(torch.nn.Module):\n",
        "    def __init__(self, weight=None, size_average=True):\n",
        "        super(DiceLoss, self).__init__()\n",
        "\n",
        "    def forward(self, inputs, targets, smooth=1):\n",
        "        \n",
        "        #comment out if your model contains a sigmoid or equivalent activation layer\n",
        "        inputs = torch.sigmoid(inputs)       \n",
        "        \n",
        "        #flatten label and prediction tensors\n",
        "        inputs = inputs.view(-1)\n",
        "        targets = targets.view(-1)\n",
        "        \n",
        "        intersection = (inputs * targets).sum()                            \n",
        "        dice = (2.*intersection + smooth)/(inputs.sum() + targets.sum() + smooth)  \n",
        "        \n",
        "        return 1 - dice\n",
        "\n",
        "class IoULoss(torch.nn.Module):\n",
        "    def __init__(self, weight=None, size_average=True):\n",
        "        super(IoULoss, self).__init__()\n",
        "\n",
        "    def forward(self, inputs, targets, smooth=1):\n",
        "        \n",
        "        #comment out if your model contains a sigmoid or equivalent activation layer\n",
        "        inputs = torch.sigmoid(inputs)       \n",
        "        \n",
        "        #flatten label and prediction tensors\n",
        "        inputs = inputs.view(-1)\n",
        "        targets = targets.view(-1)\n",
        "        \n",
        "        #intersection is equivalent to True Positive count\n",
        "        #union is the mutually inclusive area of all labels & predictions \n",
        "        intersection = (inputs * targets).sum()\n",
        "        total = (inputs + targets).sum()\n",
        "        union = total - intersection \n",
        "        \n",
        "        IoU = (intersection + smooth)/(union + smooth)\n",
        "                \n",
        "        return 1 - IoU\n",
        "\n",
        "\n",
        "class LossIntoMaskRCNN(object):\n",
        "    def __init__(self, lossfunction = 'bincrossentr_wl'):\n",
        "        if lossfunction == 'bincrossentr_wl':\n",
        "            self.loss = F.binary_cross_entropy_with_logits\n",
        "        elif lossfunction == 'mse':\n",
        "            self.loss = F.mse_loss\n",
        "        elif lossfunction =='dice':\n",
        "            self.loss = DiceLoss()\n",
        "        elif lossfunction == 'iou':\n",
        "            self.loss = IoULoss()\n",
        "    def lossintomaskrcnn(self, mask_logits, proposals, gt_masks, gt_labels, mask_matched_idxs, loss = 'bincrossentr_wl'): \n",
        "        # type: (Tensor, List[Tensor], List[Tensor], List[Tensor], List[Tensor]) \n",
        "        \"\"\" \n",
        "        Arguments: \n",
        "            proposals (list[BoxList]) \n",
        "            mask_logits (Tensor) \n",
        "            targets (list[BoxList]) \n",
        "\n",
        "        Return: \n",
        "            mask_loss (Tensor): scalar tensor containing the loss \n",
        "        \"\"\" \n",
        "\n",
        "        discretization_size = mask_logits.shape[-1] \n",
        "        labels = [l[idxs] for l, idxs in zip(gt_labels, mask_matched_idxs)] \n",
        "        mask_targets = [ \n",
        "            project_masks_on_boxes(m, p, i, discretization_size) \n",
        "            for m, p, i in zip(gt_masks, proposals, mask_matched_idxs) \n",
        "        ] \n",
        "\n",
        "        labels = torch.cat(labels, dim=0) \n",
        "        mask_targets = torch.cat(mask_targets, dim=0) \n",
        "\n",
        "        # torch.mean (in binary_cross_entropy_with_logits) doesn't \n",
        "        # accept empty tensors, so handle it separately \n",
        "        if mask_targets.numel() == 0: \n",
        "            return mask_logits.sum() * 0 \n",
        "\n",
        "        mask_loss = self.loss( \n",
        "            mask_logits[torch.arange(labels.shape[0], device=labels.device), labels], mask_targets \n",
        "        ) \n",
        "        return mask_loss\n",
        "\n",
        "def availablelosses():\n",
        "    return ['bincrossentr_wl', 'dice', 'iou', 'mse']\n",
        "def availablelosses_tofunctions():\n",
        "    return {'bincrossentr_wl':F.binary_cross_entropy_with_logits, 'dice':DiceLoss(), 'iou':IoULoss(),'mse':F.mse_loss}\n",
        "\n",
        "def setloss(loss = 'bincrossentr_wl'):\n",
        "    lossIMRCNN = LossIntoMaskRCNN(loss)\n",
        "    torchvision.models.detection.roi_heads.maskrcnn_loss = lossIMRCNN.lossintomaskrcnn \n",
        "\n",
        "def eager_outputs_foo(losses, detections):\n",
        "    return losses, detections\n",
        "\n",
        "def get_maskrcnn(pretrained = True):\n",
        "    model = torchvision.models.detection.maskrcnn_resnet50_fpn(pretrained=pretrained)\n",
        "    in_features = model.roi_heads.box_predictor.cls_score.in_features\n",
        "    #replace head predictor (boxes)\n",
        "    NUM_CLASSES=2\n",
        "    model.roi_heads.box_predictor = FastRCNNPredictor(in_features, NUM_CLASSES)\n",
        "    in_features_mask = model.roi_heads.mask_predictor.conv5_mask.in_channels\n",
        "    hidden_layer = 256\n",
        "    #replace mask predictor\n",
        "    fg_iou_thresh = 0.5 #min IoU to be considered as positive\n",
        "    bg_iou_thresh = 0.5 #max IoU to be considered as negative\n",
        "    model.roi_heads.proposal_matcher.low_threshold = bg_iou_thresh\n",
        "    model.roi_heads.proposal_matcher.high_threshold = fg_iou_thresh\n",
        "    model.roi_heads.mask_predictor = MaskRCNNPredictor(in_features_mask, hidden_layer, NUM_CLASSES)\n",
        "    # model.eager_outputs = eager_outputs_foo\n",
        "    return model"
      ]
    },
    {
      "cell_type": "markdown",
      "metadata": {
        "id": "SjedFtc-Uj90"
      },
      "source": [
        "Print datasets lens:"
      ]
    },
    {
      "cell_type": "code",
      "execution_count": 2,
      "metadata": {
        "colab": {
          "base_uri": "https://localhost:8080/"
        },
        "id": "ns35oTbIUtWD",
        "outputId": "a11ff29d-82e8-49e4-e038-b1db018f4a66"
      },
      "outputs": [
        {
          "name": "stdout",
          "output_type": "stream",
          "text": [
            "trainlen: 110\n",
            "testlen: 13\n",
            "validlen: 14\n",
            "split proportion: 0.8029197080291971 : 0.0948905109489051 : 0.10218978102189781\n"
          ]
        }
      ],
      "source": [
        "print_datsetslens()"
      ]
    },
    {
      "cell_type": "code",
      "execution_count": 17,
      "metadata": {
        "id": "Geu3EwggCweo"
      },
      "outputs": [],
      "source": [
        "# ! pip install -U albumentations\n",
        "# ! pip uninstall opencv-python-headless\n",
        "# ! pip install opencv-python-headless==4.1.2.30"
      ]
    },
    {
      "cell_type": "code",
      "execution_count": 3,
      "metadata": {
        "id": "cEwLE33h8KOU"
      },
      "outputs": [],
      "source": [
        "modelname ='model6bincrossentr_wl.pt'\n",
        "import albumentations as A\n",
        "traintransforms = A.Compose([\n",
        "    A.OneOf([\n",
        "        A.MotionBlur( p =1),\n",
        "        A.GaussianBlur(p=1, blur_limit=(3,7))\n",
        "    ], p =0.35),\n",
        "    A.OneOf([\n",
        "        A.GaussNoise(p=1, var_limit = (70,140)),\n",
        "        A.ISONoise(p=1, intensity = (0.3, 0.7))\n",
        "    ], p=0.35),\n",
        "    A.OneOf([\n",
        "        A.RandomBrightnessContrast(p=1)\n",
        "    ], p = 0.7)\n",
        "])\n",
        "testtransforms = None\n",
        "def metrics(model, testloader, IoU_thresh = 0.5):\n",
        "    prec = 0.0\n",
        "    rec = 0.0\n",
        "    counter = 0\n",
        "    for batchid, (images, targets) in enumerate(testloader, 1):\n",
        "        res = model(images)\n",
        "        res = [filter_results(i, confidence_thresh = 0.8) for i in res]\n",
        "        for resi, trgti in zip(res, targets):\n",
        "            TP = calcTP(trgti['masks'], resi['masks'], resi['scores'], IoU_thresh = IoU_thresh)\n",
        "            if resi['masks'].shape[0] == 0:\n",
        "                counter += 1\n",
        "                continue\n",
        "            prec += TP / resi['masks'].shape[0]\n",
        "            rec += TP/ trgti['masks'].shape[0]\n",
        "            counter+=1\n",
        "    prec /= counter\n",
        "    rec /= counter\n",
        "    return prec, rec, fscore(prec, rec)\n",
        "\n",
        "def get_model():\n",
        "    model = get_maskrcnn()\n",
        "    # if torch.cuda.is_available():\n",
        "    #     model.load_state_dict(torch.load(os.path.join(MODELPATH , modelname)))\n",
        "    # else:\n",
        "    model.load_state_dict(torch.load(os.path.join(MODELPATH , modelname), map_location=torch.device('cpu')))\n",
        "    model.eval()\n",
        "    return model"
      ]
    },
    {
      "cell_type": "code",
      "execution_count": 4,
      "metadata": {
        "colab": {
          "base_uri": "https://localhost:8080/",
          "height": 1000
        },
        "id": "VenCiGeiTqhl",
        "outputId": "b5dd0dd0-0e8e-4cac-ab16-8ab540a7f629"
      },
      "outputs": [
        {
          "name": "stdout",
          "output_type": "stream",
          "text": [
            "modelname: model6bincrossentr_wl.pt\n"
          ]
        },
        {
          "data": {
            "image/png": "[encoded data removed]",
            "text/plain": [
              "<Figure size 432x288 with 1 Axes>"
            ]
          },
          "metadata": {
            "needs_background": "light"
          },
          "output_type": "display_data"
        },
        {
          "data": {
            "image/png": "[encoded data removed]",
            "text/plain": [
              "<Figure size 432x288 with 1 Axes>"
            ]
          },
          "metadata": {
            "needs_background": "light"
          },
          "output_type": "display_data"
        },
        {
          "data": {
            "image/png": "[encoded data removed]",
            "text/plain": [
              "<Figure size 432x288 with 1 Axes>"
            ]
          },
          "metadata": {
            "needs_background": "light"
          },
          "output_type": "display_data"
        },
        {
          "data": {
            "image/png": "[encoded data removed]",
            "text/plain": [
              "<Figure size 432x288 with 1 Axes>"
            ]
          },
          "metadata": {
            "needs_background": "light"
          },
          "output_type": "display_data"
        },
        {
          "name": "stderr",
          "output_type": "stream",
          "text": [
            "/home/szymi/miniconda3/envs/cv/lib/python3.9/site-packages/torch/functional.py:445: UserWarning: torch.meshgrid: in an upcoming release, it will be required to pass the indexing argument. (Triggered internally at  /opt/conda/conda-bld/pytorch_1639180549130/work/aten/src/ATen/native/TensorShape.cpp:2157.)\n",
            "  return _VF.meshgrid(tensors, **kwargs)  # type: ignore[attr-defined]\n"
          ]
        }
      ],
      "source": [
        "results = dict()\n",
        "modelname ='model6bincrossentr_wl.pt'\n",
        "print(\"modelname:\", modelname)\n",
        "with open( MODELPATH  + modelname + \"_LOSSES.json\" , \"r\" ) as f:\n",
        "    (trainlosses, trainmasklosses), (validlosses, validmasklosses) = json.load(f)\n",
        "plt.plot(trainlosses)\n",
        "plt.title(f'trainlosses: {modelname}')\n",
        "plt.ylabel(\"loss\")\n",
        "plt.xlabel(\"epochs\")\n",
        "plt.show()\n",
        "plt.plot(trainmasklosses)\n",
        "plt.title(f'trainmasklosses: {modelname}')\n",
        "plt.ylabel(\"loss\")\n",
        "plt.xlabel(\"epochs\")\n",
        "plt.show()\n",
        "plt.plot(validlosses)\n",
        "plt.title(f'validlosses: {modelname}')\n",
        "plt.ylabel(\"loss\")\n",
        "plt.xlabel(\"epochs\")\n",
        "plt.show()\n",
        "plt.plot(validmasklosses)\n",
        "plt.title(f'validmasklosses: {modelname}')\n",
        "plt.ylabel(\"loss\")\n",
        "plt.xlabel(\"epochs\")\n",
        "plt.show()\n",
        "\n",
        "model = get_model()\n",
        "\n",
        "BATCH_SIZE = 1\n",
        "validdata = WGISDMaskedDataset('./wgisd', source = 'valid', transforms=testtransforms)\n",
        "validloader = DataLoader(validdata, BATCH_SIZE, shuffle=True, num_workers = 1, collate_fn=lambda s: tuple(zip(*s)))\n",
        "prec, rec, fsc = metrics(model, validloader)\n",
        "results[modelname] = dict(precision = prec, recall = rec, fscore = fsc)"
      ]
    },
    {
      "cell_type": "code",
      "execution_count": null,
      "metadata": {},
      "outputs": [],
      "source": [
        "# model6bincrossentr_wl.pt_LOSSES.json"
      ]
    },
    {
      "cell_type": "code",
      "execution_count": 5,
      "metadata": {
        "id": "do_lJM1GEJak"
      },
      "outputs": [
        {
          "data": {
            "text/html": [
              "<div>\n",
              "<style scoped>\n",
              "    .dataframe tbody tr th:only-of-type {\n",
              "        vertical-align: middle;\n",
              "    }\n",
              "\n",
              "    .dataframe tbody tr th {\n",
              "        vertical-align: top;\n",
              "    }\n",
              "\n",
              "    .dataframe thead th {\n",
              "        text-align: right;\n",
              "    }\n",
              "</style>\n",
              "<table border=\"1\" class=\"dataframe\">\n",
              "  <thead>\n",
              "    <tr style=\"text-align: right;\">\n",
              "      <th></th>\n",
              "      <th>precision</th>\n",
              "      <th>recall</th>\n",
              "      <th>fscore</th>\n",
              "    </tr>\n",
              "  </thead>\n",
              "  <tbody>\n",
              "    <tr>\n",
              "      <th>model6bincrossentr_wl.pt</th>\n",
              "      <td>0.836157</td>\n",
              "      <td>0.855763</td>\n",
              "      <td>0.845846</td>\n",
              "    </tr>\n",
              "  </tbody>\n",
              "</table>\n",
              "</div>"
            ],
            "text/plain": [
              "                          precision    recall    fscore\n",
              "model6bincrossentr_wl.pt   0.836157  0.855763  0.845846"
            ]
          },
          "execution_count": 5,
          "metadata": {},
          "output_type": "execute_result"
        }
      ],
      "source": [
        "import pandas as pd\n",
        "pd.DataFrame.from_dict(results, orient = 'index')"
      ]
    },
    {
      "cell_type": "markdown",
      "metadata": {},
      "source": [
        "Final evaluation on test set:"
      ]
    },
    {
      "cell_type": "code",
      "execution_count": 6,
      "metadata": {},
      "outputs": [
        {
          "data": {
            "text/html": [
              "<div>\n",
              "<style scoped>\n",
              "    .dataframe tbody tr th:only-of-type {\n",
              "        vertical-align: middle;\n",
              "    }\n",
              "\n",
              "    .dataframe tbody tr th {\n",
              "        vertical-align: top;\n",
              "    }\n",
              "\n",
              "    .dataframe thead th {\n",
              "        text-align: right;\n",
              "    }\n",
              "</style>\n",
              "<table border=\"1\" class=\"dataframe\">\n",
              "  <thead>\n",
              "    <tr style=\"text-align: right;\">\n",
              "      <th></th>\n",
              "      <th>precision</th>\n",
              "      <th>recall</th>\n",
              "      <th>fscore</th>\n",
              "    </tr>\n",
              "  </thead>\n",
              "  <tbody>\n",
              "    <tr>\n",
              "      <th>model6bincrossentr_wl.pt</th>\n",
              "      <td>0.894241</td>\n",
              "      <td>0.861767</td>\n",
              "      <td>0.877703</td>\n",
              "    </tr>\n",
              "  </tbody>\n",
              "</table>\n",
              "</div>"
            ],
            "text/plain": [
              "                          precision    recall    fscore\n",
              "model6bincrossentr_wl.pt   0.894241  0.861767  0.877703"
            ]
          },
          "execution_count": 6,
          "metadata": {},
          "output_type": "execute_result"
        }
      ],
      "source": [
        "model=get_model()\n",
        "results = dict()\n",
        "BATCH_SIZE = 1\n",
        "validdata = WGISDMaskedDataset('./wgisd', source = 'test', transforms=testtransforms)\n",
        "validloader = DataLoader(validdata, BATCH_SIZE, shuffle=True, num_workers = 1, collate_fn=lambda s: tuple(zip(*s)))\n",
        "prec, rec, fsc = metrics(model, validloader)\n",
        "results[modelname] = dict(precision = prec, recall = rec, fscore = fsc)\n",
        "pd.DataFrame.from_dict(results, orient = 'index')"
      ]
    }
  ],
  "metadata": {
    "colab": {
      "name": "evaluate_losses_imaug.ipynb",
      "provenance": []
    },
    "kernelspec": {
      "display_name": "Python 3",
      "name": "python3"
    },
    "language_info": {
      "codemirror_mode": {
        "name": "ipython",
        "version": 3
      },
      "file_extension": ".py",
      "mimetype": "text/x-python",
      "name": "python",
      "nbconvert_exporter": "python",
      "pygments_lexer": "ipython3",
      "version": "3.9.0"
    }
  },
  "nbformat": 4,
  "nbformat_minor": 0
}
